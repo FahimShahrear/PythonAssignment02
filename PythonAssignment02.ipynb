{
  "nbformat": 4,
  "nbformat_minor": 0,
  "metadata": {
    "colab": {
      "name": "PythonAssignment02.ipynb",
      "provenance": [],
      "collapsed_sections": []
    },
    "kernelspec": {
      "name": "python3",
      "display_name": "Python 3"
    }
  },
  "cells": [
    {
      "cell_type": "code",
      "metadata": {
        "colab": {
          "base_uri": "https://localhost:8080/"
        },
        "id": "zadZlyTNwh78",
        "outputId": "1a7face9-c36d-4b83-b128-3f334bb659e0"
      },
      "source": [
        "i=int(input())\r\n",
        "for j in range(1,i+1):\r\n",
        "  for k in range(j):\r\n",
        "    if k==j-1:\r\n",
        "      print('*')\r\n",
        "    else:\r\n",
        "      print('*',end='')\r\n",
        "for j in range(i,0,-1):\r\n",
        "  for k in range(j-1,0,-1):\r\n",
        "    if k!=1:\r\n",
        "      print('*',end='')\r\n",
        "    else:\r\n",
        "      print('*')"
      ],
      "execution_count": 61,
      "outputs": [
        {
          "output_type": "stream",
          "text": [
            "5\n",
            "*\n",
            "**\n",
            "***\n",
            "****\n",
            "*****\n",
            "****\n",
            "***\n",
            "**\n",
            "*\n"
          ],
          "name": "stdout"
        }
      ]
    },
    {
      "cell_type": "code",
      "metadata": {
        "colab": {
          "base_uri": "https://localhost:8080/"
        },
        "id": "FAtFTQNixIIB",
        "outputId": "f9ed8497-bf5b-432f-a60a-611d0cac26fe"
      },
      "source": [
        "word=input()\r\n",
        "word=word[::-1]\r\n",
        "print(word)"
      ],
      "execution_count": 64,
      "outputs": [
        {
          "output_type": "stream",
          "text": [
            "google\n",
            "elgoog\n"
          ],
          "name": "stdout"
        }
      ]
    }
  ]
}